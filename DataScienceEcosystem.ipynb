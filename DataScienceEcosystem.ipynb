{
 "cells": [
  {
   "cell_type": "markdown",
   "id": "5c3ab6ff-b65a-43b0-a1fd-76996558799f",
   "metadata": {},
   "source": [
    "# Data Science Tools and Ecosystem"
   ]
  },
  {
   "cell_type": "markdown",
   "id": "e73bed23-0b2c-4125-9d20-027c95e099ef",
   "metadata": {
    "tags": []
   },
   "source": [
    "In this Notebook, I will be summarising data science tools and ecosystems."
   ]
  },
  {
   "cell_type": "markdown",
   "id": "0e1f1d6e-0389-401e-89af-7abbab5789c8",
   "metadata": {},
   "source": [
    "Some of the popular languages that Data Scientists use are:\n",
    "1. Python\n",
    "2. SQL\n",
    "3. R\n",
    "4. Julia\n",
    "5. C++"
   ]
  },
  {
   "cell_type": "markdown",
   "id": "bc1d2996-df7f-41a9-8404-3db89b087a95",
   "metadata": {},
   "source": [
    "Some of the commonly used libraries used by Data Scientists include:\n",
    "1. Pandas\n",
    "2. NumPy\n",
    "3. SciKit-Learn"
   ]
  },
  {
   "cell_type": "markdown",
   "id": "27756092-7495-447d-a50b-c8ea30a5979e",
   "metadata": {},
   "source": [
    "|Data Science Tools|\n",
    "|-------|\n",
    "|RStudio|\n",
    "|GitHub|\n",
    "|Jupyter Notebooks|"
   ]
  },
  {
   "cell_type": "markdown",
   "id": "e37bc352-e3d9-4feb-9c30-885851ffd433",
   "metadata": {},
   "source": [
    "### Below are a few examples of evaluating arithmetic expressions in python"
   ]
  },
  {
   "cell_type": "code",
   "execution_count": 2,
   "id": "b6f5b8ea-68c5-4410-ba87-00fec810d08e",
   "metadata": {
    "tags": []
   },
   "outputs": [
    {
     "data": {
      "text/plain": [
       "17"
      ]
     },
     "execution_count": 2,
     "metadata": {},
     "output_type": "execute_result"
    }
   ],
   "source": [
    "# This is a simple expression to multiply and add integers\n",
    "(3*4)+5"
   ]
  },
  {
   "cell_type": "code",
   "execution_count": 3,
   "id": "823954bb-5dd0-4823-aa87-ce9e13d1bfc4",
   "metadata": {
    "tags": []
   },
   "outputs": [
    {
     "data": {
      "text/plain": [
       "3.3333333333333335"
      ]
     },
     "execution_count": 3,
     "metadata": {},
     "output_type": "execute_result"
    }
   ],
   "source": [
    "# This will convert minutes to hours by dividing by 60\n",
    "200/60"
   ]
  },
  {
   "cell_type": "markdown",
   "id": "f0bf743a-dd60-4871-935e-2dc6594bff75",
   "metadata": {},
   "source": [
    "__Objectives:__\n",
    "\n",
    "+ List popular data science languages\n",
    "+ Introduce Jupyter Notebooks and Labs\n",
    "+ Learn basic data vis tools in R\n",
    "+ Become familiar with Github"
   ]
  },
  {
   "cell_type": "markdown",
   "id": "61191065-9a4e-496e-99f7-65bf3478c1eb",
   "metadata": {
    "tags": []
   },
   "source": [
    "## Author\n",
    "Tyler Pooley"
   ]
  }
 ],
 "metadata": {
  "kernelspec": {
   "display_name": "Python",
   "language": "python",
   "name": "conda-env-python-py"
  },
  "language_info": {
   "codemirror_mode": {
    "name": "ipython",
    "version": 3
   },
   "file_extension": ".py",
   "mimetype": "text/x-python",
   "name": "python",
   "nbconvert_exporter": "python",
   "pygments_lexer": "ipython3",
   "version": "3.7.12"
  }
 },
 "nbformat": 4,
 "nbformat_minor": 5
}
